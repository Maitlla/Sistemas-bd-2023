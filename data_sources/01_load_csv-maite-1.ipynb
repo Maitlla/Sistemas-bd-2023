{
 "cells": [
  {
   "cell_type": "markdown",
   "metadata": {},
   "source": [
    "# Load CSV files. Exercise 1"
   ]
  },
  {
   "cell_type": "markdown",
   "metadata": {},
   "source": [
    "Use the dataset about Liga (1919-2020) champions: \"La_Liga_Winners.csv\"\n",
    "\n",
    "https://www.kaggle.com/kishan305/spanish-football-la-liga-champions"
   ]
  },
  {
   "cell_type": "code",
   "execution_count": 1,
   "id": "3d925811-56e7-44cc-a80f-f7cfce5485b8",
   "metadata": {},
   "outputs": [],
   "source": [
    "# import pandas library\n",
    "import pandas as pd"
   ]
  },
  {
   "cell_type": "code",
   "execution_count": 2,
   "id": "797d2380-7a9d-4d5c-ba7d-b6391109206f",
   "metadata": {},
   "outputs": [],
   "source": [
    "# load the CSV file into a DataFrame\n",
    "df = pd.read_csv('../datasets/La_Liga_Winners.csv')"
   ]
  },
  {
   "cell_type": "code",
   "execution_count": 3,
   "id": "924793c9-ce45-454b-8cfc-86d0241de8ff",
   "metadata": {},
   "outputs": [
    {
     "data": {
      "text/html": [
       "<div>\n",
       "<style scoped>\n",
       "    .dataframe tbody tr th:only-of-type {\n",
       "        vertical-align: middle;\n",
       "    }\n",
       "\n",
       "    .dataframe tbody tr th {\n",
       "        vertical-align: top;\n",
       "    }\n",
       "\n",
       "    .dataframe thead th {\n",
       "        text-align: right;\n",
       "    }\n",
       "</style>\n",
       "<table border=\"1\" class=\"dataframe\">\n",
       "  <thead>\n",
       "    <tr style=\"text-align: right;\">\n",
       "      <th></th>\n",
       "      <th>Season</th>\n",
       "      <th>Winner</th>\n",
       "      <th>Runner-up</th>\n",
       "      <th>Third Place</th>\n",
       "      <th>Top Scorer</th>\n",
       "      <th>Top scorer's club(s)</th>\n",
       "      <th>Goals</th>\n",
       "    </tr>\n",
       "  </thead>\n",
       "  <tbody>\n",
       "    <tr>\n",
       "      <th>0</th>\n",
       "      <td>1929</td>\n",
       "      <td>Barcelona</td>\n",
       "      <td>Real Madrid</td>\n",
       "      <td>Athletic Bilbao</td>\n",
       "      <td>Paco Bienzobas</td>\n",
       "      <td>Real Sociedad</td>\n",
       "      <td>14</td>\n",
       "    </tr>\n",
       "    <tr>\n",
       "      <th>1</th>\n",
       "      <td>1929–30</td>\n",
       "      <td>Athletic Bilbao</td>\n",
       "      <td>Barcelona</td>\n",
       "      <td>Arenas</td>\n",
       "      <td>Guillermo Gorostiza</td>\n",
       "      <td>Athletic Bilbao</td>\n",
       "      <td>19</td>\n",
       "    </tr>\n",
       "    <tr>\n",
       "      <th>2</th>\n",
       "      <td>1930–31</td>\n",
       "      <td>Athletic Bilbao</td>\n",
       "      <td>Racing Santander</td>\n",
       "      <td>Real Sociedad</td>\n",
       "      <td>Agustín Sauto Arana</td>\n",
       "      <td>Athletic Bilbao</td>\n",
       "      <td>27</td>\n",
       "    </tr>\n",
       "    <tr>\n",
       "      <th>3</th>\n",
       "      <td>1931–32</td>\n",
       "      <td>Real Madrid</td>\n",
       "      <td>Athletic Bilbao</td>\n",
       "      <td>Barcelona</td>\n",
       "      <td>Guillermo Gorostiza</td>\n",
       "      <td>Athletic Bilbao</td>\n",
       "      <td>12</td>\n",
       "    </tr>\n",
       "    <tr>\n",
       "      <th>4</th>\n",
       "      <td>1932–33</td>\n",
       "      <td>Real Madrid</td>\n",
       "      <td>Athletic Bilbao</td>\n",
       "      <td>Espanyol</td>\n",
       "      <td>Manuel Olivares</td>\n",
       "      <td>Real Madrid</td>\n",
       "      <td>16</td>\n",
       "    </tr>\n",
       "    <tr>\n",
       "      <th>...</th>\n",
       "      <td>...</td>\n",
       "      <td>...</td>\n",
       "      <td>...</td>\n",
       "      <td>...</td>\n",
       "      <td>...</td>\n",
       "      <td>...</td>\n",
       "      <td>...</td>\n",
       "    </tr>\n",
       "    <tr>\n",
       "      <th>87</th>\n",
       "      <td>2015–16</td>\n",
       "      <td>Barcelona</td>\n",
       "      <td>Real Madrid</td>\n",
       "      <td>Atlético Madrid</td>\n",
       "      <td>Luis Suárez</td>\n",
       "      <td>Barcelona</td>\n",
       "      <td>40</td>\n",
       "    </tr>\n",
       "    <tr>\n",
       "      <th>88</th>\n",
       "      <td>2016–17</td>\n",
       "      <td>Real Madrid</td>\n",
       "      <td>Barcelona</td>\n",
       "      <td>Atlético Madrid</td>\n",
       "      <td>Lionel Messi</td>\n",
       "      <td>Barcelona</td>\n",
       "      <td>37</td>\n",
       "    </tr>\n",
       "    <tr>\n",
       "      <th>89</th>\n",
       "      <td>2017–18</td>\n",
       "      <td>Barcelona</td>\n",
       "      <td>Atlético Madrid</td>\n",
       "      <td>Real Madrid</td>\n",
       "      <td>Lionel Messi</td>\n",
       "      <td>Barcelona</td>\n",
       "      <td>34</td>\n",
       "    </tr>\n",
       "    <tr>\n",
       "      <th>90</th>\n",
       "      <td>2018–19</td>\n",
       "      <td>Barcelona</td>\n",
       "      <td>Atlético Madrid</td>\n",
       "      <td>Real Madrid</td>\n",
       "      <td>Lionel Messi</td>\n",
       "      <td>Barcelona</td>\n",
       "      <td>36</td>\n",
       "    </tr>\n",
       "    <tr>\n",
       "      <th>91</th>\n",
       "      <td>2019–20</td>\n",
       "      <td>Real Madrid</td>\n",
       "      <td>Barcelona</td>\n",
       "      <td>Atlético Madrid</td>\n",
       "      <td>Lionel Messi</td>\n",
       "      <td>Barcelona</td>\n",
       "      <td>25</td>\n",
       "    </tr>\n",
       "  </tbody>\n",
       "</table>\n",
       "<p>92 rows × 7 columns</p>\n",
       "</div>"
      ],
      "text/plain": [
       "     Season            Winner          Runner-up      Third Place  \\\n",
       "0      1929        Barcelona        Real Madrid   Athletic Bilbao   \n",
       "1   1929–30  Athletic Bilbao          Barcelona            Arenas   \n",
       "2   1930–31  Athletic Bilbao   Racing Santander     Real Sociedad   \n",
       "3   1931–32      Real Madrid    Athletic Bilbao         Barcelona   \n",
       "4   1932–33      Real Madrid    Athletic Bilbao          Espanyol   \n",
       "..      ...               ...                ...              ...   \n",
       "87  2015–16        Barcelona        Real Madrid   Atlético Madrid   \n",
       "88  2016–17     Real Madrid           Barcelona   Atlético Madrid   \n",
       "89  2017–18        Barcelona    Atlético Madrid       Real Madrid   \n",
       "90  2018–19        Barcelona    Atlético Madrid       Real Madrid   \n",
       "91  2019–20      Real Madrid          Barcelona   Atlético Madrid   \n",
       "\n",
       "             Top Scorer Top scorer's club(s) Goals  \n",
       "0        Paco Bienzobas        Real Sociedad    14  \n",
       "1   Guillermo Gorostiza      Athletic Bilbao    19  \n",
       "2   Agustín Sauto Arana      Athletic Bilbao    27  \n",
       "3   Guillermo Gorostiza      Athletic Bilbao    12  \n",
       "4       Manuel Olivares          Real Madrid    16  \n",
       "..                  ...                  ...   ...  \n",
       "87          Luis Suárez            Barcelona    40  \n",
       "88         Lionel Messi            Barcelona    37  \n",
       "89         Lionel Messi            Barcelona    34  \n",
       "90         Lionel Messi            Barcelona    36  \n",
       "91         Lionel Messi            Barcelona    25  \n",
       "\n",
       "[92 rows x 7 columns]"
      ]
     },
     "execution_count": 3,
     "metadata": {},
     "output_type": "execute_result"
    }
   ],
   "source": [
    "# show DataFrame\n",
    "df"
   ]
  },
  {
   "cell_type": "code",
   "execution_count": null,
   "id": "c1c2aff5-06bc-4545-98c3-86707029a0a1",
   "metadata": {},
   "outputs": [],
   "source": [
    "# show first lines of the DataFrame\n"
   ]
  },
  {
   "cell_type": "code",
   "execution_count": null,
   "metadata": {},
   "outputs": [],
   "source": [
    "# show the 3 first lines of the DataFrame"
   ]
  },
  {
   "cell_type": "code",
   "execution_count": null,
   "id": "8efdd32a-5b2c-4577-823e-8d1b8ed99ad8",
   "metadata": {},
   "outputs": [],
   "source": [
    "# show the last lines of the DataFrame\n"
   ]
  },
  {
   "cell_type": "code",
   "execution_count": null,
   "metadata": {},
   "outputs": [],
   "source": [
    "# show the 8 last lines of the DataFrame"
   ]
  },
  {
   "cell_type": "code",
   "execution_count": null,
   "id": "093b07d7-4059-4b40-b6e4-6fad891af594",
   "metadata": {},
   "outputs": [],
   "source": [
    "# show the \"shape\" of the DataFrame (files x rows)\n"
   ]
  },
  {
   "cell_type": "code",
   "execution_count": null,
   "id": "7a40a074-b028-4bd5-aeb9-6656c6c78008",
   "metadata": {},
   "outputs": [],
   "source": [
    "# show the main statistics\n"
   ]
  },
  {
   "cell_type": "code",
   "execution_count": null,
   "id": "27df8a7c-8d12-4642-b5b7-1bf65355b30e",
   "metadata": {},
   "outputs": [],
   "source": [
    "# select the 'Winner' column as a Series\n"
   ]
  },
  {
   "cell_type": "code",
   "execution_count": null,
   "id": "5f54d404-31f2-4ad6-af4b-a3175381281d",
   "metadata": {},
   "outputs": [],
   "source": [
    "# show the type of the previous selection\n"
   ]
  },
  {
   "cell_type": "code",
   "execution_count": null,
   "id": "38ef5adc-72fe-4935-a427-529dd36d3634",
   "metadata": {},
   "outputs": [],
   "source": [
    "# Another way of selecting a column:  dataframe_name.column_name\n"
   ]
  },
  {
   "cell_type": "code",
   "execution_count": null,
   "id": "b7c0cf7e-882b-4a8f-abec-96b65b490143",
   "metadata": {},
   "outputs": [],
   "source": [
    "# show the type of the previous selection\n"
   ]
  },
  {
   "cell_type": "code",
   "execution_count": null,
   "id": "1583544c-450d-4860-ba7a-567e720e4d46",
   "metadata": {},
   "outputs": [],
   "source": [
    "# select the 'Winner' column as a DataFrame\n"
   ]
  },
  {
   "cell_type": "code",
   "execution_count": null,
   "id": "0bbe934d-b1e5-4682-98d5-8d7f214b62cf",
   "metadata": {},
   "outputs": [],
   "source": [
    "# show the type of the previous selection\n"
   ]
  },
  {
   "cell_type": "code",
   "execution_count": null,
   "id": "52631331-b1d9-4533-a865-69339d104522",
   "metadata": {},
   "outputs": [],
   "source": [
    "# select many columns: 'Top Scorer' and  'Goals'\n"
   ]
  },
  {
   "cell_type": "code",
   "execution_count": null,
   "id": "ea0c06d0-161d-4c38-a61a-c65fc8b093c1",
   "metadata": {},
   "outputs": [],
   "source": [
    "# show the type of the previous selection\n"
   ]
  },
  {
   "cell_type": "code",
   "execution_count": null,
   "id": "8e900ba7-78fd-477e-8c81-2493d794da5f",
   "metadata": {},
   "outputs": [],
   "source": [
    "# show the argument type you have passed to the DataFrame to get the previous selection (['column1','column2'])\n"
   ]
  }
 ],
 "metadata": {
  "kernelspec": {
   "display_name": "sistemas",
   "language": "python",
   "name": "python3"
  },
  "language_info": {
   "codemirror_mode": {
    "name": "ipython",
    "version": 3
   },
   "file_extension": ".py",
   "mimetype": "text/x-python",
   "name": "python",
   "nbconvert_exporter": "python",
   "pygments_lexer": "ipython3",
   "version": "3.12.0"
  }
 },
 "nbformat": 4,
 "nbformat_minor": 2
}
