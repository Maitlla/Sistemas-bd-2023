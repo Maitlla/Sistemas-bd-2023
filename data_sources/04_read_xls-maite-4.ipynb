{
 "cells": [
  {
   "cell_type": "markdown",
   "metadata": {},
   "source": [
    "# XLS and XLSX files. . Exercise 4\n",
    "\n",
    "Pandas documentation: https://pandas.pydata.org/docs/index.html\n",
    "\n",
    "Pandas API reference: https://pandas.pydata.org/docs/reference/index.html#api"
   ]
  },
  {
   "cell_type": "code",
   "execution_count": 2,
   "id": "bb4ca998-b77e-49f2-8a15-6aeba961172f",
   "metadata": {},
   "outputs": [],
   "source": [
    "# import pandas library\n",
    "import pandas as pd"
   ]
  },
  {
   "cell_type": "markdown",
   "metadata": {},
   "source": [
    "### Sales Dataset\n",
    "\n",
    "**Source**: Tableau Community\n",
    "\n",
    "https://community.tableau.com/s/question/0D54T00000CWeX8SAL/sample-superstore-sales-excelxls"
   ]
  },
  {
   "cell_type": "code",
   "execution_count": 3,
   "id": "709d1e19",
   "metadata": {},
   "outputs": [
    {
     "name": "stdout",
     "output_type": "stream",
     "text": [
      "# conda environments:\n",
      "#\n",
      "base                     /home/xuwira30/miniconda3\n",
      "envdos                   /home/xuwira30/miniconda3/envs/envdos\n",
      "sistemas              *  /home/xuwira30/miniconda3/envs/sistemas\n",
      "\n"
     ]
    }
   ],
   "source": [
    "!conda env list"
   ]
  },
  {
   "cell_type": "code",
   "execution_count": 4,
   "id": "b038204c",
   "metadata": {},
   "outputs": [],
   "source": [
    "# Load XLS file (from local filesystem)\n",
    "df = pd.read_excel('../datasets/sample_superstore.xls')"
   ]
  },
  {
   "cell_type": "code",
   "execution_count": 7,
   "id": "94ab0be0",
   "metadata": {},
   "outputs": [],
   "source": [
    "# Load XLS file (from GitHub repo)\n",
    "df = pd.read_excel('https://github.com/bigdatawirtz/sistemas-bigdata-2023/raw/main/datasets/sample_superstore.xls', 'Orders')"
   ]
  },
  {
   "cell_type": "code",
   "execution_count": 8,
   "id": "63b12247-f172-4686-964d-7db76ab1c6c0",
   "metadata": {},
   "outputs": [
    {
     "data": {
      "text/html": [
       "<div>\n",
       "<style scoped>\n",
       "    .dataframe tbody tr th:only-of-type {\n",
       "        vertical-align: middle;\n",
       "    }\n",
       "\n",
       "    .dataframe tbody tr th {\n",
       "        vertical-align: top;\n",
       "    }\n",
       "\n",
       "    .dataframe thead th {\n",
       "        text-align: right;\n",
       "    }\n",
       "</style>\n",
       "<table border=\"1\" class=\"dataframe\">\n",
       "  <thead>\n",
       "    <tr style=\"text-align: right;\">\n",
       "      <th></th>\n",
       "      <th>Row ID</th>\n",
       "      <th>Order ID</th>\n",
       "      <th>Order Date</th>\n",
       "      <th>Ship Date</th>\n",
       "      <th>Ship Mode</th>\n",
       "      <th>Customer ID</th>\n",
       "      <th>Customer Name</th>\n",
       "      <th>Segment</th>\n",
       "      <th>Country</th>\n",
       "      <th>City</th>\n",
       "      <th>...</th>\n",
       "      <th>Postal Code</th>\n",
       "      <th>Region</th>\n",
       "      <th>Product ID</th>\n",
       "      <th>Category</th>\n",
       "      <th>Sub-Category</th>\n",
       "      <th>Product Name</th>\n",
       "      <th>Sales</th>\n",
       "      <th>Quantity</th>\n",
       "      <th>Discount</th>\n",
       "      <th>Profit</th>\n",
       "    </tr>\n",
       "  </thead>\n",
       "  <tbody>\n",
       "    <tr>\n",
       "      <th>0</th>\n",
       "      <td>1</td>\n",
       "      <td>CA-2016-152156</td>\n",
       "      <td>2016-11-08</td>\n",
       "      <td>2016-11-11</td>\n",
       "      <td>Second Class</td>\n",
       "      <td>CG-12520</td>\n",
       "      <td>Claire Gute</td>\n",
       "      <td>Consumer</td>\n",
       "      <td>United States</td>\n",
       "      <td>Henderson</td>\n",
       "      <td>...</td>\n",
       "      <td>42420</td>\n",
       "      <td>South</td>\n",
       "      <td>FUR-BO-10001798</td>\n",
       "      <td>Furniture</td>\n",
       "      <td>Bookcases</td>\n",
       "      <td>Bush Somerset Collection Bookcase</td>\n",
       "      <td>261.9600</td>\n",
       "      <td>2</td>\n",
       "      <td>0.00</td>\n",
       "      <td>41.9136</td>\n",
       "    </tr>\n",
       "    <tr>\n",
       "      <th>1</th>\n",
       "      <td>2</td>\n",
       "      <td>CA-2016-152156</td>\n",
       "      <td>2016-11-08</td>\n",
       "      <td>2016-11-11</td>\n",
       "      <td>Second Class</td>\n",
       "      <td>CG-12520</td>\n",
       "      <td>Claire Gute</td>\n",
       "      <td>Consumer</td>\n",
       "      <td>United States</td>\n",
       "      <td>Henderson</td>\n",
       "      <td>...</td>\n",
       "      <td>42420</td>\n",
       "      <td>South</td>\n",
       "      <td>FUR-CH-10000454</td>\n",
       "      <td>Furniture</td>\n",
       "      <td>Chairs</td>\n",
       "      <td>Hon Deluxe Fabric Upholstered Stacking Chairs,...</td>\n",
       "      <td>731.9400</td>\n",
       "      <td>3</td>\n",
       "      <td>0.00</td>\n",
       "      <td>219.5820</td>\n",
       "    </tr>\n",
       "    <tr>\n",
       "      <th>2</th>\n",
       "      <td>3</td>\n",
       "      <td>CA-2016-138688</td>\n",
       "      <td>2016-06-12</td>\n",
       "      <td>2016-06-16</td>\n",
       "      <td>Second Class</td>\n",
       "      <td>DV-13045</td>\n",
       "      <td>Darrin Van Huff</td>\n",
       "      <td>Corporate</td>\n",
       "      <td>United States</td>\n",
       "      <td>Los Angeles</td>\n",
       "      <td>...</td>\n",
       "      <td>90036</td>\n",
       "      <td>West</td>\n",
       "      <td>OFF-LA-10000240</td>\n",
       "      <td>Office Supplies</td>\n",
       "      <td>Labels</td>\n",
       "      <td>Self-Adhesive Address Labels for Typewriters b...</td>\n",
       "      <td>14.6200</td>\n",
       "      <td>2</td>\n",
       "      <td>0.00</td>\n",
       "      <td>6.8714</td>\n",
       "    </tr>\n",
       "    <tr>\n",
       "      <th>3</th>\n",
       "      <td>4</td>\n",
       "      <td>US-2015-108966</td>\n",
       "      <td>2015-10-11</td>\n",
       "      <td>2015-10-18</td>\n",
       "      <td>Standard Class</td>\n",
       "      <td>SO-20335</td>\n",
       "      <td>Sean O'Donnell</td>\n",
       "      <td>Consumer</td>\n",
       "      <td>United States</td>\n",
       "      <td>Fort Lauderdale</td>\n",
       "      <td>...</td>\n",
       "      <td>33311</td>\n",
       "      <td>South</td>\n",
       "      <td>FUR-TA-10000577</td>\n",
       "      <td>Furniture</td>\n",
       "      <td>Tables</td>\n",
       "      <td>Bretford CR4500 Series Slim Rectangular Table</td>\n",
       "      <td>957.5775</td>\n",
       "      <td>5</td>\n",
       "      <td>0.45</td>\n",
       "      <td>-383.0310</td>\n",
       "    </tr>\n",
       "    <tr>\n",
       "      <th>4</th>\n",
       "      <td>5</td>\n",
       "      <td>US-2015-108966</td>\n",
       "      <td>2015-10-11</td>\n",
       "      <td>2015-10-18</td>\n",
       "      <td>Standard Class</td>\n",
       "      <td>SO-20335</td>\n",
       "      <td>Sean O'Donnell</td>\n",
       "      <td>Consumer</td>\n",
       "      <td>United States</td>\n",
       "      <td>Fort Lauderdale</td>\n",
       "      <td>...</td>\n",
       "      <td>33311</td>\n",
       "      <td>South</td>\n",
       "      <td>OFF-ST-10000760</td>\n",
       "      <td>Office Supplies</td>\n",
       "      <td>Storage</td>\n",
       "      <td>Eldon Fold 'N Roll Cart System</td>\n",
       "      <td>22.3680</td>\n",
       "      <td>2</td>\n",
       "      <td>0.20</td>\n",
       "      <td>2.5164</td>\n",
       "    </tr>\n",
       "    <tr>\n",
       "      <th>...</th>\n",
       "      <td>...</td>\n",
       "      <td>...</td>\n",
       "      <td>...</td>\n",
       "      <td>...</td>\n",
       "      <td>...</td>\n",
       "      <td>...</td>\n",
       "      <td>...</td>\n",
       "      <td>...</td>\n",
       "      <td>...</td>\n",
       "      <td>...</td>\n",
       "      <td>...</td>\n",
       "      <td>...</td>\n",
       "      <td>...</td>\n",
       "      <td>...</td>\n",
       "      <td>...</td>\n",
       "      <td>...</td>\n",
       "      <td>...</td>\n",
       "      <td>...</td>\n",
       "      <td>...</td>\n",
       "      <td>...</td>\n",
       "      <td>...</td>\n",
       "    </tr>\n",
       "    <tr>\n",
       "      <th>9989</th>\n",
       "      <td>9990</td>\n",
       "      <td>CA-2014-110422</td>\n",
       "      <td>2014-01-21</td>\n",
       "      <td>2014-01-23</td>\n",
       "      <td>Second Class</td>\n",
       "      <td>TB-21400</td>\n",
       "      <td>Tom Boeckenhauer</td>\n",
       "      <td>Consumer</td>\n",
       "      <td>United States</td>\n",
       "      <td>Miami</td>\n",
       "      <td>...</td>\n",
       "      <td>33180</td>\n",
       "      <td>South</td>\n",
       "      <td>FUR-FU-10001889</td>\n",
       "      <td>Furniture</td>\n",
       "      <td>Furnishings</td>\n",
       "      <td>Ultra Door Pull Handle</td>\n",
       "      <td>25.2480</td>\n",
       "      <td>3</td>\n",
       "      <td>0.20</td>\n",
       "      <td>4.1028</td>\n",
       "    </tr>\n",
       "    <tr>\n",
       "      <th>9990</th>\n",
       "      <td>9991</td>\n",
       "      <td>CA-2017-121258</td>\n",
       "      <td>2017-02-26</td>\n",
       "      <td>2017-03-03</td>\n",
       "      <td>Standard Class</td>\n",
       "      <td>DB-13060</td>\n",
       "      <td>Dave Brooks</td>\n",
       "      <td>Consumer</td>\n",
       "      <td>United States</td>\n",
       "      <td>Costa Mesa</td>\n",
       "      <td>...</td>\n",
       "      <td>92627</td>\n",
       "      <td>West</td>\n",
       "      <td>FUR-FU-10000747</td>\n",
       "      <td>Furniture</td>\n",
       "      <td>Furnishings</td>\n",
       "      <td>Tenex B1-RE Series Chair Mats for Low Pile Car...</td>\n",
       "      <td>91.9600</td>\n",
       "      <td>2</td>\n",
       "      <td>0.00</td>\n",
       "      <td>15.6332</td>\n",
       "    </tr>\n",
       "    <tr>\n",
       "      <th>9991</th>\n",
       "      <td>9992</td>\n",
       "      <td>CA-2017-121258</td>\n",
       "      <td>2017-02-26</td>\n",
       "      <td>2017-03-03</td>\n",
       "      <td>Standard Class</td>\n",
       "      <td>DB-13060</td>\n",
       "      <td>Dave Brooks</td>\n",
       "      <td>Consumer</td>\n",
       "      <td>United States</td>\n",
       "      <td>Costa Mesa</td>\n",
       "      <td>...</td>\n",
       "      <td>92627</td>\n",
       "      <td>West</td>\n",
       "      <td>TEC-PH-10003645</td>\n",
       "      <td>Technology</td>\n",
       "      <td>Phones</td>\n",
       "      <td>Aastra 57i VoIP phone</td>\n",
       "      <td>258.5760</td>\n",
       "      <td>2</td>\n",
       "      <td>0.20</td>\n",
       "      <td>19.3932</td>\n",
       "    </tr>\n",
       "    <tr>\n",
       "      <th>9992</th>\n",
       "      <td>9993</td>\n",
       "      <td>CA-2017-121258</td>\n",
       "      <td>2017-02-26</td>\n",
       "      <td>2017-03-03</td>\n",
       "      <td>Standard Class</td>\n",
       "      <td>DB-13060</td>\n",
       "      <td>Dave Brooks</td>\n",
       "      <td>Consumer</td>\n",
       "      <td>United States</td>\n",
       "      <td>Costa Mesa</td>\n",
       "      <td>...</td>\n",
       "      <td>92627</td>\n",
       "      <td>West</td>\n",
       "      <td>OFF-PA-10004041</td>\n",
       "      <td>Office Supplies</td>\n",
       "      <td>Paper</td>\n",
       "      <td>It's Hot Message Books with Stickers, 2 3/4\" x 5\"</td>\n",
       "      <td>29.6000</td>\n",
       "      <td>4</td>\n",
       "      <td>0.00</td>\n",
       "      <td>13.3200</td>\n",
       "    </tr>\n",
       "    <tr>\n",
       "      <th>9993</th>\n",
       "      <td>9994</td>\n",
       "      <td>CA-2017-119914</td>\n",
       "      <td>2017-05-04</td>\n",
       "      <td>2017-05-09</td>\n",
       "      <td>Second Class</td>\n",
       "      <td>CC-12220</td>\n",
       "      <td>Chris Cortes</td>\n",
       "      <td>Consumer</td>\n",
       "      <td>United States</td>\n",
       "      <td>Westminster</td>\n",
       "      <td>...</td>\n",
       "      <td>92683</td>\n",
       "      <td>West</td>\n",
       "      <td>OFF-AP-10002684</td>\n",
       "      <td>Office Supplies</td>\n",
       "      <td>Appliances</td>\n",
       "      <td>Acco 7-Outlet Masterpiece Power Center, Wihtou...</td>\n",
       "      <td>243.1600</td>\n",
       "      <td>2</td>\n",
       "      <td>0.00</td>\n",
       "      <td>72.9480</td>\n",
       "    </tr>\n",
       "  </tbody>\n",
       "</table>\n",
       "<p>9994 rows × 21 columns</p>\n",
       "</div>"
      ],
      "text/plain": [
       "      Row ID        Order ID Order Date  Ship Date       Ship Mode  \\\n",
       "0          1  CA-2016-152156 2016-11-08 2016-11-11    Second Class   \n",
       "1          2  CA-2016-152156 2016-11-08 2016-11-11    Second Class   \n",
       "2          3  CA-2016-138688 2016-06-12 2016-06-16    Second Class   \n",
       "3          4  US-2015-108966 2015-10-11 2015-10-18  Standard Class   \n",
       "4          5  US-2015-108966 2015-10-11 2015-10-18  Standard Class   \n",
       "...      ...             ...        ...        ...             ...   \n",
       "9989    9990  CA-2014-110422 2014-01-21 2014-01-23    Second Class   \n",
       "9990    9991  CA-2017-121258 2017-02-26 2017-03-03  Standard Class   \n",
       "9991    9992  CA-2017-121258 2017-02-26 2017-03-03  Standard Class   \n",
       "9992    9993  CA-2017-121258 2017-02-26 2017-03-03  Standard Class   \n",
       "9993    9994  CA-2017-119914 2017-05-04 2017-05-09    Second Class   \n",
       "\n",
       "     Customer ID     Customer Name    Segment        Country             City  \\\n",
       "0       CG-12520       Claire Gute   Consumer  United States        Henderson   \n",
       "1       CG-12520       Claire Gute   Consumer  United States        Henderson   \n",
       "2       DV-13045   Darrin Van Huff  Corporate  United States      Los Angeles   \n",
       "3       SO-20335    Sean O'Donnell   Consumer  United States  Fort Lauderdale   \n",
       "4       SO-20335    Sean O'Donnell   Consumer  United States  Fort Lauderdale   \n",
       "...          ...               ...        ...            ...              ...   \n",
       "9989    TB-21400  Tom Boeckenhauer   Consumer  United States            Miami   \n",
       "9990    DB-13060       Dave Brooks   Consumer  United States       Costa Mesa   \n",
       "9991    DB-13060       Dave Brooks   Consumer  United States       Costa Mesa   \n",
       "9992    DB-13060       Dave Brooks   Consumer  United States       Costa Mesa   \n",
       "9993    CC-12220      Chris Cortes   Consumer  United States      Westminster   \n",
       "\n",
       "      ... Postal Code  Region       Product ID         Category Sub-Category  \\\n",
       "0     ...       42420   South  FUR-BO-10001798        Furniture    Bookcases   \n",
       "1     ...       42420   South  FUR-CH-10000454        Furniture       Chairs   \n",
       "2     ...       90036    West  OFF-LA-10000240  Office Supplies       Labels   \n",
       "3     ...       33311   South  FUR-TA-10000577        Furniture       Tables   \n",
       "4     ...       33311   South  OFF-ST-10000760  Office Supplies      Storage   \n",
       "...   ...         ...     ...              ...              ...          ...   \n",
       "9989  ...       33180   South  FUR-FU-10001889        Furniture  Furnishings   \n",
       "9990  ...       92627    West  FUR-FU-10000747        Furniture  Furnishings   \n",
       "9991  ...       92627    West  TEC-PH-10003645       Technology       Phones   \n",
       "9992  ...       92627    West  OFF-PA-10004041  Office Supplies        Paper   \n",
       "9993  ...       92683    West  OFF-AP-10002684  Office Supplies   Appliances   \n",
       "\n",
       "                                           Product Name     Sales  Quantity  \\\n",
       "0                     Bush Somerset Collection Bookcase  261.9600         2   \n",
       "1     Hon Deluxe Fabric Upholstered Stacking Chairs,...  731.9400         3   \n",
       "2     Self-Adhesive Address Labels for Typewriters b...   14.6200         2   \n",
       "3         Bretford CR4500 Series Slim Rectangular Table  957.5775         5   \n",
       "4                        Eldon Fold 'N Roll Cart System   22.3680         2   \n",
       "...                                                 ...       ...       ...   \n",
       "9989                             Ultra Door Pull Handle   25.2480         3   \n",
       "9990  Tenex B1-RE Series Chair Mats for Low Pile Car...   91.9600         2   \n",
       "9991                              Aastra 57i VoIP phone  258.5760         2   \n",
       "9992  It's Hot Message Books with Stickers, 2 3/4\" x 5\"   29.6000         4   \n",
       "9993  Acco 7-Outlet Masterpiece Power Center, Wihtou...  243.1600         2   \n",
       "\n",
       "      Discount    Profit  \n",
       "0         0.00   41.9136  \n",
       "1         0.00  219.5820  \n",
       "2         0.00    6.8714  \n",
       "3         0.45 -383.0310  \n",
       "4         0.20    2.5164  \n",
       "...        ...       ...  \n",
       "9989      0.20    4.1028  \n",
       "9990      0.00   15.6332  \n",
       "9991      0.20   19.3932  \n",
       "9992      0.00   13.3200  \n",
       "9993      0.00   72.9480  \n",
       "\n",
       "[9994 rows x 21 columns]"
      ]
     },
     "execution_count": 8,
     "metadata": {},
     "output_type": "execute_result"
    }
   ],
   "source": [
    "# show DataFrame\n",
    "df"
   ]
  },
  {
   "cell_type": "code",
   "execution_count": 7,
   "id": "872d236a",
   "metadata": {},
   "outputs": [
    {
     "data": {
      "text/plain": [
       "616"
      ]
     },
     "execution_count": 7,
     "metadata": {},
     "output_type": "execute_result"
    }
   ],
   "source": [
    "#df.Concello.count()"
   ]
  },
  {
   "cell_type": "code",
   "execution_count": null,
   "id": "40fd0526-e731-42c5-97ff-726d0add7805",
   "metadata": {},
   "outputs": [],
   "source": [
    "# Show the 3 first rows\n"
   ]
  },
  {
   "cell_type": "code",
   "execution_count": null,
   "id": "256f99f2-65f7-4e16-9c77-900b385c6ba9",
   "metadata": {},
   "outputs": [],
   "source": [
    "# Show 5 random rows\n"
   ]
  },
  {
   "cell_type": "code",
   "execution_count": null,
   "id": "e46908cc-8391-4af9-82f8-1914adac7416",
   "metadata": {},
   "outputs": [],
   "source": [
    "# From the last 10 rows, show the 5 first ones\n"
   ]
  },
  {
   "cell_type": "code",
   "execution_count": null,
   "id": "969a5f6a-8318-4dab-a0c5-6e2439e7b4a8",
   "metadata": {},
   "outputs": [],
   "source": [
    "# Show 3 random rows from the first 50 ones\n"
   ]
  },
  {
   "cell_type": "code",
   "execution_count": 4,
   "id": "45cb3e2c-a892-4e16-b8fd-f4fc8205eb57",
   "metadata": {},
   "outputs": [],
   "source": [
    "# Show info about column data types\n"
   ]
  },
  {
   "cell_type": "code",
   "execution_count": null,
   "id": "98de42cb-974f-4adc-89f7-71e56b687742",
   "metadata": {},
   "outputs": [],
   "source": [
    "# Show the next info\n",
    "#\n",
    "# zip code type: \n",
    "#\n",
    "# Discount type: \n",
    "#\n",
    "# Country data type: "
   ]
  },
  {
   "cell_type": "code",
   "execution_count": null,
   "id": "1568ab57-246a-4eb4-bfa9-66966e407ff5",
   "metadata": {},
   "outputs": [],
   "source": [
    "# Show column names\n"
   ]
  },
  {
   "cell_type": "code",
   "execution_count": null,
   "id": "9716fff3-ec1d-4cd7-b250-fd1b34de0892",
   "metadata": {},
   "outputs": [],
   "source": [
    "# Select and show 5 different random cities\n"
   ]
  },
  {
   "cell_type": "code",
   "execution_count": null,
   "id": "cc77ad05-d220-4d2e-acd3-c2097e30e6b2",
   "metadata": {},
   "outputs": [],
   "source": [
    "# Show the different countries that appear in the data\n"
   ]
  },
  {
   "cell_type": "code",
   "execution_count": null,
   "id": "f870fc88-4786-41e0-bf02-13195b9d3b68",
   "metadata": {},
   "outputs": [],
   "source": [
    "# Show the different categories\n"
   ]
  },
  {
   "cell_type": "code",
   "execution_count": null,
   "id": "3189f880-e560-4a3b-b068-bb28e4aeefde",
   "metadata": {},
   "outputs": [],
   "source": [
    "# Select client id, name and city\n"
   ]
  },
  {
   "cell_type": "code",
   "execution_count": null,
   "id": "a267f569-bfc0-460f-add0-20e7babf8abe",
   "metadata": {},
   "outputs": [],
   "source": [
    "# Select Order ID (as Dataframe)\n"
   ]
  },
  {
   "cell_type": "code",
   "execution_count": null,
   "id": "fb700035-1c66-41f8-be04-27f774c37b59",
   "metadata": {},
   "outputs": [],
   "source": [
    "# Count elements in Series \"Region\"\n"
   ]
  },
  {
   "cell_type": "code",
   "execution_count": null,
   "id": "91272c69-196c-46e7-83a3-34cc5e82fcc6",
   "metadata": {},
   "outputs": [],
   "source": [
    "# Show elementes from \"Region\" Series\n"
   ]
  },
  {
   "cell_type": "code",
   "execution_count": null,
   "id": "fccba626-823f-4331-8b5c-1f441e95a275",
   "metadata": {},
   "outputs": [],
   "source": [
    "# Count different elements in Series \"Region\"\n"
   ]
  },
  {
   "cell_type": "code",
   "execution_count": null,
   "id": "932db815-3c8f-420a-83c4-abd48df56188",
   "metadata": {},
   "outputs": [],
   "source": [
    "# Create a Series with quantities in each order line and show the result\n"
   ]
  },
  {
   "cell_type": "code",
   "execution_count": null,
   "id": "c448b0ae-0692-47b5-b1b5-3e595cdb524f",
   "metadata": {},
   "outputs": [],
   "source": [
    "# Show the lines with quantities greater than 2\n"
   ]
  },
  {
   "cell_type": "code",
   "execution_count": null,
   "id": "101f2272-8786-49fb-83c5-e55f382f7711",
   "metadata": {},
   "outputs": [],
   "source": [
    "# Show only the DataFrame lines with subcategory  \"Tables\"\n"
   ]
  },
  {
   "cell_type": "code",
   "execution_count": null,
   "id": "9f54463c-e801-4cf9-8aad-d14fc4bfb5bb",
   "metadata": {},
   "outputs": [],
   "source": [
    "# Show the cities with orders including \"Tables\"\n"
   ]
  },
  {
   "cell_type": "code",
   "execution_count": null,
   "id": "dd508146-0843-4400-b44c-fd92b75ee593",
   "metadata": {},
   "outputs": [],
   "source": [
    "# Create a variable (type Series) of cities with orders including Tables. Show 5 random elements.\n"
   ]
  },
  {
   "cell_type": "code",
   "execution_count": null,
   "id": "7028fb28-f6c9-4080-a49c-83e67697700b",
   "metadata": {},
   "outputs": [],
   "source": [
    "# Create a variable (type DataFrame) of cities with orders including Chairs. Show the 3 last elements.\n"
   ]
  },
  {
   "cell_type": "code",
   "execution_count": null,
   "id": "30c72d8a-5e91-44f7-976d-dc9e9b8f9aa6",
   "metadata": {},
   "outputs": [],
   "source": [
    "# Show all the order lines including Phones to 'Los Angeles'\n"
   ]
  },
  {
   "cell_type": "code",
   "execution_count": null,
   "id": "17633cf8-bd5b-48f4-8519-77ed97ad7ba4",
   "metadata": {},
   "outputs": [],
   "source": [
    "# Show 10 random order lines with Phones or Tables\n"
   ]
  },
  {
   "cell_type": "code",
   "execution_count": null,
   "id": "c5ec2bd0-7d1e-4b40-aadb-d3efa74d8836",
   "metadata": {},
   "outputs": [],
   "source": [
    "# Select the second row of the dataframe\n"
   ]
  },
  {
   "cell_type": "code",
   "execution_count": null,
   "id": "628ec5c0-2ba0-4b19-9993-f42b411b8118",
   "metadata": {},
   "outputs": [],
   "source": [
    "# Select the third, seventh and 24 row of the dataset\n"
   ]
  },
  {
   "cell_type": "code",
   "execution_count": null,
   "id": "8f60599c-3839-4ef5-8a90-d5a860747647",
   "metadata": {},
   "outputs": [],
   "source": [
    "# create a dataframe (sales) with the client name, city, product name and quantity from West region\n"
   ]
  },
  {
   "cell_type": "code",
   "execution_count": null,
   "id": "54a00a68-7381-4cdf-bc8f-160b2ceb8ae5",
   "metadata": {},
   "outputs": [],
   "source": [
    "# Select the second row from the previous DataFrame (sales) using position\n"
   ]
  },
  {
   "cell_type": "code",
   "execution_count": null,
   "id": "9937abb9-c1d2-4ff0-ab20-ef84d1afe9d8",
   "metadata": {},
   "outputs": [],
   "source": [
    "# Select the second row from the previous DataFrame (sales) using index\n"
   ]
  },
  {
   "cell_type": "code",
   "execution_count": null,
   "id": "5cbbd14e-30e1-4b28-bb3c-5602e54bbd7f",
   "metadata": {
    "tags": []
   },
   "outputs": [],
   "source": [
    "# Think about what's the best column in the spreadsheet to use it as an index and load the file again in a new DataFrame\n"
   ]
  },
  {
   "cell_type": "code",
   "execution_count": null,
   "id": "8fda73bb-5fc6-4346-8042-94e6fc09290a",
   "metadata": {},
   "outputs": [],
   "source": [
    "# Select the fifth row\n"
   ]
  },
  {
   "cell_type": "code",
   "execution_count": null,
   "id": "0ee468f8-2dd9-454b-a743-4c425399f531",
   "metadata": {},
   "outputs": [],
   "source": [
    "# Select rows from the third to the seventh one\n"
   ]
  },
  {
   "cell_type": "code",
   "execution_count": null,
   "id": "21e54170-f942-4029-b23b-7813e840172d",
   "metadata": {},
   "outputs": [],
   "source": [
    "# Selecdt penultimate row\n"
   ]
  },
  {
   "cell_type": "code",
   "execution_count": null,
   "id": "0fddec11-dd08-47ed-b1d8-492968eff7e2",
   "metadata": {},
   "outputs": [],
   "source": [
    "# Select, give the last 5 rows, all but the last one."
   ]
  },
  {
   "cell_type": "code",
   "execution_count": null,
   "id": "78f93b44-dbbc-43fd-8a08-b2b218d21567",
   "metadata": {},
   "outputs": [],
   "source": [
    "# Depending on what we need, we can use loc or iloc\n",
    "# loc <- work with index/labels\n",
    "# iloc <- work with positions"
   ]
  },
  {
   "cell_type": "code",
   "execution_count": null,
   "id": "cb66817d-e73b-44d9-982c-19d325bc2953",
   "metadata": {},
   "outputs": [],
   "source": [
    "# Write to XLS all the sales in the State of California\n"
   ]
  },
  {
   "cell_type": "code",
   "execution_count": null,
   "id": "e43b8e8c-d4a8-4704-904b-9ed98dff8835",
   "metadata": {},
   "outputs": [],
   "source": [
    "# Give a name to the sheet ('California') \n"
   ]
  },
  {
   "cell_type": "code",
   "execution_count": null,
   "id": "2fde6754-647c-4be7-ad0e-9ceb51a027bf",
   "metadata": {},
   "outputs": [],
   "source": [
    "# Save the sales rows in the west or south. \n",
    "# Save the product name, identifier, quantity and discount. \n",
    "# Save the result in a file sales_WS.xlsx\n",
    "# Try to do it all in a single row\n"
   ]
  }
 ],
 "metadata": {
  "kernelspec": {
   "display_name": "Python 3",
   "language": "python",
   "name": "python3"
  },
  "language_info": {
   "codemirror_mode": {
    "name": "ipython",
    "version": 3
   },
   "file_extension": ".py",
   "mimetype": "text/x-python",
   "name": "python",
   "nbconvert_exporter": "python",
   "pygments_lexer": "ipython3",
   "version": "3.12.0"
  }
 },
 "nbformat": 4,
 "nbformat_minor": 5
}
